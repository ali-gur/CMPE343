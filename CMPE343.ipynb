{
  "nbformat": 4,
  "nbformat_minor": 0,
  "metadata": {
    "colab": {
      "provenance": [],
      "collapsed_sections": [
        "bXBa6EUBZEEJ",
        "u7zCjh0rZLux",
        "Uw9jBWMPZX5p",
        "QhWn1nmDao6N",
        "8dWfB-H9urT0",
        "Z_4hK1G0XUkg",
        "Zlwh59a7XENo",
        "OjyWyQagW1FD",
        "tt2-ZOMuWipJ",
        "mS9yhJ-M849d",
        "uwNBvu3gPp0y",
        "VP78yqCYTguL"
      ]
    },
    "kernelspec": {
      "name": "python3",
      "display_name": "Python 3"
    },
    "language_info": {
      "name": "python"
    }
  },
  "cells": [
    {
      "cell_type": "markdown",
      "source": [
        "# Part 1"
      ],
      "metadata": {
        "id": "n5sRioPqulmf"
      }
    },
    {
      "cell_type": "markdown",
      "source": [
        "### Question 1 Answer:"
      ],
      "metadata": {
        "id": "ql7XN6pvcvVs"
      }
    },
    {
      "cell_type": "code",
      "execution_count": null,
      "metadata": {
        "id": "tdGNd_CDmQFT"
      },
      "outputs": [],
      "source": [
        "import random\n",
        "import numpy as np"
      ]
    },
    {
      "cell_type": "code",
      "source": [
        "def tokenize(sentence):\n",
        "    return list(map(lambda x: x.lower(), sentence.split()))"
      ],
      "metadata": {
        "id": "PYXBMPSqmw0E"
      },
      "execution_count": null,
      "outputs": []
    },
    {
      "cell_type": "code",
      "source": [
        "def build_vocabulary(corpus):\n",
        "    vocabulary = dict()\n",
        "    for sentence in corpus:\n",
        "        for word in tokenize(sentence):\n",
        "            if word not in vocabulary:\n",
        "                vocabulary[word] = dict()\n",
        "    return vocabulary"
      ],
      "metadata": {
        "id": "_OI-Nxvnno1f"
      },
      "execution_count": null,
      "outputs": []
    },
    {
      "cell_type": "code",
      "source": [
        "def count_bigrams(vocabulary, corpus):\n",
        "    for sentence in corpus:\n",
        "        words = tokenize(sentence)\n",
        "        for i in range(len(words) - 1):\n",
        "            if words[i + 1] not in vocabulary[words[i]]:\n",
        "                vocabulary[words[i]][words[i + 1]] = 1\n",
        "            else:\n",
        "                vocabulary[words[i]][words[i + 1]] += 1"
      ],
      "metadata": {
        "id": "Sc6_49iEn5Wy"
      },
      "execution_count": null,
      "outputs": []
    },
    {
      "cell_type": "code",
      "source": [
        "def generate_sentence_by_probability():\n",
        "    sentence = \"<|start|> \"\n",
        "    first_word = \"<|start|>\"\n",
        "    word = choose_next_word_by_probability(vocabulary, first_word)\n",
        "    while word != \"<|end|>\":\n",
        "        sentence += word + \" \"\n",
        "        word = choose_next_word_by_probability(vocabulary, word)\n",
        "    sentence += \"<|end|>\"\n",
        "    return sentence"
      ],
      "metadata": {
        "id": "tqSQDP9HoCG_"
      },
      "execution_count": null,
      "outputs": []
    },
    {
      "cell_type": "code",
      "source": [
        "def choose_next_word_by_probability(vocabulary, word):\n",
        "    # calculate probs with frequencies\n",
        "    total = sum(vocabulary[word].values())\n",
        "    probs = dict()\n",
        "    for next_word in vocabulary[word]:\n",
        "        probs[next_word] = vocabulary[word][next_word] / total\n",
        "    # return a random word based on probs\n",
        "    return random.choices(list(probs.keys()), list(probs.values()))[0]"
      ],
      "metadata": {
        "id": "k8LVtLfwoGy5"
      },
      "execution_count": null,
      "outputs": []
    },
    {
      "cell_type": "code",
      "source": [
        "with open('sentences.txt', 'r') as file:\n",
        "    corpus = file.readlines()\n",
        "\n",
        "vocabulary = build_vocabulary(corpus)"
      ],
      "metadata": {
        "id": "r447HI6BobIM"
      },
      "execution_count": null,
      "outputs": []
    },
    {
      "cell_type": "code",
      "source": [
        "count_bigrams(vocabulary, corpus)"
      ],
      "metadata": {
        "id": "Qbaic33EotvV"
      },
      "execution_count": null,
      "outputs": []
    },
    {
      "cell_type": "code",
      "source": [
        "sentence1 = generate_sentence_by_probability()\n",
        "print(sentence1)\n",
        "sentence2 = generate_sentence_by_probability()\n",
        "print(sentence2)\n",
        "sentence3 = generate_sentence_by_probability()\n",
        "print(sentence3)\n",
        "sentence4 = generate_sentence_by_probability()\n",
        "print(sentence4)\n",
        "sentence5 = generate_sentence_by_probability()\n",
        "print(sentence5)"
      ],
      "metadata": {
        "colab": {
          "base_uri": "https://localhost:8080/"
        },
        "id": "-p0dqECxoKlX",
        "outputId": "8527495e-79b4-4c46-9f0e-eb7b8c85c453"
      },
      "execution_count": null,
      "outputs": [
        {
          "output_type": "stream",
          "name": "stdout",
          "text": [
            "<|start|> they enjoy playing the ukulele <|end|>\n",
            "<|start|> you attend a picnic in the ukulele <|end|>\n",
            "<|start|> we explore new bakeries <|end|>\n",
            "<|start|> we take a new coffee shop every saturday <|end|>\n",
            "<|start|> i practice drawing class every afternoon tea <|end|>\n"
          ]
        }
      ]
    },
    {
      "cell_type": "markdown",
      "source": [
        "The sentences are not always meaningful. There could be certain generated sentences which can be in the in the input file."
      ],
      "metadata": {
        "id": "5hkNiXDA-E8k"
      }
    },
    {
      "cell_type": "code",
      "source": [
        "with open('sentences.txt', 'r') as file:\n",
        "    sentences = file.readlines()\n",
        "    # lower sentences\n",
        "    sentences = list(map(lambda x: x.lower().rstrip(), sentences))\n",
        "    # check if sentences are in corpus\n",
        "    print(\"is sentence 1 in sentences.txt: \" + str(sentence1 in sentences))\n",
        "    print(\"is sentence 2 in sentences.txt: \" + str(sentence2 in sentences))\n",
        "    print(\"is sentence 3 in sentences.txt: \" + str(sentence3 in sentences))\n",
        "    print(\"is sentence 4 in sentences.txt: \" + str(sentence4 in sentences))\n",
        "    print(\"is sentence 5 in sentences.txt: \" + str(sentence5 in sentences))\n"
      ],
      "metadata": {
        "colab": {
          "base_uri": "https://localhost:8080/"
        },
        "id": "gjNApoVXZ21q",
        "outputId": "b06e80ae-5331-4dc2-e737-a18dae800a03"
      },
      "execution_count": null,
      "outputs": [
        {
          "output_type": "stream",
          "name": "stdout",
          "text": [
            "is sentence 1 in sentences.txt: False\n",
            "is sentence 2 in sentences.txt: False\n",
            "is sentence 3 in sentences.txt: False\n",
            "is sentence 4 in sentences.txt: False\n",
            "is sentence 5 in sentences.txt: False\n"
          ]
        }
      ]
    },
    {
      "cell_type": "markdown",
      "source": [
        "### Question 2 Answer:"
      ],
      "metadata": {
        "id": "2pB2ZYpRc1r5"
      }
    },
    {
      "cell_type": "markdown",
      "source": [
        "$$P(w1,w2,w3,......,wk) = P(w1) * P(w2|w1) * P(w3|w2) * P(w4|w3) * ...... * P(wk|wk-1)$$"
      ],
      "metadata": {
        "id": "L2_jjC_IyKC2"
      }
    },
    {
      "cell_type": "markdown",
      "source": [
        "### Question 3 Answer:"
      ],
      "metadata": {
        "id": "SbircJsuc5h_"
      }
    },
    {
      "cell_type": "code",
      "source": [
        "sentence_to_prob = generate_sentence_by_probability()\n",
        "print(sentence_to_prob)\n",
        "random_choice = \"\"\n",
        "with open('sentences.txt', 'r') as file:\n",
        "    sentences = file.readlines()\n",
        "    sentences = list(map(lambda x: x.lower().rstrip(), sentences))\n",
        "    import random\n",
        "    random_choice = random.choice(sentences)\n",
        "print(random_choice)\n",
        "random_sentence = \"<|start|> You ride your galatasaray <|end|>\".lower() # We took this from file randomly and changed the last word to galatasaray"
      ],
      "metadata": {
        "id": "A0DiNLV1c9mM",
        "colab": {
          "base_uri": "https://localhost:8080/"
        },
        "outputId": "fb870af4-4c85-40fa-f808-80a33271dcf0"
      },
      "execution_count": null,
      "outputs": [
        {
          "output_type": "stream",
          "name": "stdout",
          "text": [
            "<|start|> they enjoy a community group <|end|>\n",
            "<|start|> we play sports together <|end|>\n"
          ]
        }
      ]
    },
    {
      "cell_type": "code",
      "source": [
        "def calculate_prob(vocabulary : dict, sentence: str):\n",
        "    probability = 0\n",
        "    words = sentence.split()\n",
        "    for i in range(len(words)-1):\n",
        "      if words[i + 1] not in vocabulary:\n",
        "        return 0\n",
        "      total = sum(vocabulary[words[i]].values())\n",
        "      probs = dict()\n",
        "      for next_word in vocabulary[words[i]]:\n",
        "        probs[next_word] = vocabulary[words[i]][next_word] / total\n",
        "      probability += np.log(probs[words[i+1]])\n",
        "    return np.exp(probability)"
      ],
      "metadata": {
        "id": "ARmQO1wbzWvV"
      },
      "execution_count": null,
      "outputs": []
    },
    {
      "cell_type": "code",
      "source": [
        "print(calculate_prob(vocabulary, sentence_to_prob)) # Our own sentence\n",
        "print(calculate_prob(vocabulary, random_choice)) # Sentence already in file\n",
        "print(calculate_prob(vocabulary, random_sentence)) # Edge case (the file does not contain 'galatasaray' word)"
      ],
      "metadata": {
        "colab": {
          "base_uri": "https://localhost:8080/"
        },
        "id": "S2jqPMNX0sEk",
        "outputId": "8c249e9e-71c1-48a0-c0c7-b3a264501f5c"
      },
      "execution_count": null,
      "outputs": [
        {
          "output_type": "stream",
          "name": "stdout",
          "text": [
            "3.5744680851063814e-06\n",
            "0.00015020537525354969\n",
            "0\n"
          ]
        }
      ]
    },
    {
      "cell_type": "markdown",
      "source": [
        "Generally the sentences in the original file are more likely to be created. Sentences we created are mostly have less chance to be created, but sometimes it is possible that they can be highly possible."
      ],
      "metadata": {
        "id": "HJ-FFTkcJoqT"
      }
    },
    {
      "cell_type": "markdown",
      "source": [
        "# Part 2"
      ],
      "metadata": {
        "id": "bXBa6EUBZEEJ"
      }
    },
    {
      "cell_type": "markdown",
      "source": [
        "## Task 1"
      ],
      "metadata": {
        "id": "u7zCjh0rZLux"
      }
    },
    {
      "cell_type": "markdown",
      "source": [
        "### Question 1 Answer"
      ],
      "metadata": {
        "id": "Uw9jBWMPZX5p"
      }
    },
    {
      "cell_type": "markdown",
      "source": [
        "Exponential distribution with $β = 25$:\n",
        "\n",
        "\n",
        "*   $μ = 25$\n",
        "*   $\\sigma = 25$\n",
        "*   $\\sigma^2 = 625$\n",
        "\n"
      ],
      "metadata": {
        "id": "EtUuviIgZbl3"
      }
    },
    {
      "cell_type": "markdown",
      "source": [
        "### Question 2 Answer:"
      ],
      "metadata": {
        "id": "QhWn1nmDao6N"
      }
    },
    {
      "cell_type": "code",
      "source": [],
      "metadata": {
        "id": "IQPvswT4asdz"
      },
      "execution_count": null,
      "outputs": []
    },
    {
      "cell_type": "markdown",
      "source": [
        "## Task 2"
      ],
      "metadata": {
        "id": "8dWfB-H9urT0"
      }
    },
    {
      "cell_type": "markdown",
      "source": [
        "### Question 1 Answer:"
      ],
      "metadata": {
        "id": "Z_4hK1G0XUkg"
      }
    },
    {
      "cell_type": "markdown",
      "source": [
        "$P(\\text{Detect} \\mid a, d) = \\frac{P(a, d \\mid \\text{Detect}) P(\\text{Detect})}{P(a, d)} = \\frac{P(a \\mid \\text{Detect})P(d \\mid \\text{Detect})P(\\text{Detect})}{P(a) P(d)} $"
      ],
      "metadata": {
        "id": "2hVKmEn_XW7e"
      }
    },
    {
      "cell_type": "code",
      "source": [
        "import pandas as pd\n",
        "import numpy as np"
      ],
      "metadata": {
        "id": "zuJz5Z5qvXLG"
      },
      "execution_count": null,
      "outputs": []
    },
    {
      "cell_type": "code",
      "source": [
        "def find_likelihood_function(data):\n",
        "    mean = np.mean(data)\n",
        "    std = np.std(data)\n",
        "    return lambda x: (1 / (std * np.sqrt(2 * np.pi))) * np.exp(-((x - mean) ** 2) / (2 * std ** 2))"
      ],
      "metadata": {
        "id": "rILd5q_m1aAX"
      },
      "execution_count": null,
      "outputs": []
    },
    {
      "cell_type": "code",
      "source": [
        "# calculate the posterior probability using Bayes' theorem\n",
        "def calculate_posterior(distance, amplitude):\n",
        "    # Likelihood for \"Detect\" case\n",
        "    likelihood_detect = joint_likelihood_detect(distance, amplitude)\n",
        "    # Likelihood for \"No Detect\" case\n",
        "    likelihood_no_detect = joint_likelihood_no_detect(distance, amplitude)\n",
        "\n",
        "    # Posterior for Detect\n",
        "    posterior_detect = (prior_detect * likelihood_detect) / (prior_detect * likelihood_detect + prior_no_detect * likelihood_no_detect)\n",
        "    # Posterior for No Detect\n",
        "    posterior_no_detect = (prior_no_detect * likelihood_no_detect) / (prior_detect * likelihood_detect + prior_no_detect * likelihood_no_detect)\n",
        "\n",
        "    return posterior_detect, posterior_no_detect"
      ],
      "metadata": {
        "id": "-gbMEKY01jUi"
      },
      "execution_count": null,
      "outputs": []
    },
    {
      "cell_type": "code",
      "source": [
        "# Load the data\n",
        "data = pd.read_csv('detection_data.csv')\n",
        "extra_data = pd.read_csv('detection_data_extra.csv')\n",
        "\n",
        "# split data as detect and no detect\n",
        "detection = data[data['Detection'] == \"Detect\"]\n",
        "no_detection = data[data['Detection'] == \"No Detect\"]\n",
        "\n",
        "# calculate the distribution of distance and amplitude column separately\n",
        "amplitude = data['Amplitude']\n",
        "amplitude_detect = detection['Amplitude']\n",
        "amplitude_no_detect = no_detection['Amplitude']\n",
        "\n",
        "distance = data['Distance']\n",
        "distance_detect = detection['Distance']\n",
        "distance_no_detect = no_detection['Distance']\n",
        "\n",
        "likelihood_amplitude = find_likelihood_function(amplitude) # p(a)\n",
        "likelihood_amplitude_detect = find_likelihood_function(amplitude_detect) # p(a|detect)\n",
        "likelihood_amplitude_no_detect = find_likelihood_function(amplitude_no_detect) # p(a|no detect)\n",
        "\n",
        "likelihood_distance = find_likelihood_function(distance) # p(d)\n",
        "likelihood_distance_detect = find_likelihood_function(distance_detect) # p(d|detect)\n",
        "likelihood_distance_no_detect = find_likelihood_function(distance_no_detect) # p(d|no detect)\n",
        "\n",
        "joint_likelihood = lambda distance, amplitude: likelihood_distance(distance) * likelihood_amplitude(amplitude) # p(a, d)\n",
        "joint_likelihood_detect = lambda distance, amplitude: likelihood_distance_detect(distance) * likelihood_amplitude_detect(amplitude) # p(a, d|detect)\n",
        "joint_likelihood_no_detect = lambda distance, amplitude: likelihood_distance_no_detect(distance) * likelihood_amplitude_no_detect(amplitude) # p(a, d|no detect)\n",
        "\n",
        "# calculate the prior probability\n",
        "prior_detect = len(detection) / len(data)\n",
        "prior_no_detect = len(no_detection) / len(data)"
      ],
      "metadata": {
        "id": "DPOIa8LVuuWa"
      },
      "execution_count": null,
      "outputs": []
    },
    {
      "cell_type": "markdown",
      "source": [
        "### Question 2 Answer:"
      ],
      "metadata": {
        "id": "Zlwh59a7XENo"
      }
    },
    {
      "cell_type": "code",
      "source": [
        "# calculate the posterior probability for the extra data\n",
        "posterior = data.apply(lambda x: calculate_posterior(x['Distance'], x['Amplitude']), axis=1)\n",
        "\n",
        "# detect if the posterior probability is greater than 0.5\n",
        "prediction = posterior.apply(lambda x: \"Detect\" if x[0] > 0.5 else \"No Detect\")\n",
        "\n",
        "# calculate the accuracy\n",
        "actual = data['Detection']\n",
        "accuracy = np.mean(actual == prediction)\n",
        "print(\"Accuracy:\", accuracy)\n",
        "\n",
        "# print the prediction\n",
        "print(posterior)\n"
      ],
      "metadata": {
        "colab": {
          "base_uri": "https://localhost:8080/"
        },
        "id": "ZIAY1vZwzJOP",
        "outputId": "2b0b588a-5fd1-4594-feef-b55693d2667c"
      },
      "execution_count": null,
      "outputs": [
        {
          "output_type": "stream",
          "name": "stdout",
          "text": [
            "Accuracy: 0.9\n",
            "0       (0.024942321647782987, 0.975057678352217)\n",
            "1      (0.9975268294224732, 0.002473170577526815)\n",
            "2     (0.9995446346522848, 0.0004553653477151851)\n",
            "3       (0.9457115372216279, 0.05428846277837202)\n",
            "4       (0.8001390857703577, 0.19986091422964225)\n",
            "                         ...                     \n",
            "95     (0.006572186505595189, 0.9934278134944049)\n",
            "96      (0.03863183550371815, 0.9613681644962818)\n",
            "97     (0.9881241376884649, 0.011875862311535193)\n",
            "98       (0.32454546747434604, 0.675454532525654)\n",
            "99       (0.05792915113793698, 0.942070848862063)\n",
            "Length: 100, dtype: object\n"
          ]
        }
      ]
    },
    {
      "cell_type": "markdown",
      "source": [
        "### Question 3 Answer:"
      ],
      "metadata": {
        "id": "OjyWyQagW1FD"
      }
    },
    {
      "cell_type": "code",
      "source": [
        "# calculate the posterior probability for the extra data\n",
        "posterior = extra_data.apply(lambda x: calculate_posterior(x['Distance'], x['Amplitude']), axis=1)\n",
        "\n",
        "# detect if the posterior probability is greater than 0.5\n",
        "prediction = posterior.apply(lambda x: \"Detect\" if x[0] > 0.5 else \"No Detect\")\n",
        "\n",
        "# calculate the accuracy\n",
        "actual = extra_data['Detection']\n",
        "accuracy = np.mean(actual == prediction)\n",
        "print(\"Accuracy:\", accuracy)\n",
        "\n",
        "# print the prediction\n",
        "print(posterior)"
      ],
      "metadata": {
        "colab": {
          "base_uri": "https://localhost:8080/"
        },
        "id": "OIh8LQg_0L4F",
        "outputId": "9394f962-1e31-430b-acf7-4ccff8742f7e"
      },
      "execution_count": null,
      "outputs": [
        {
          "output_type": "stream",
          "name": "stdout",
          "text": [
            "Accuracy: 0.81\n",
            "0     (0.0041774234133274335, 0.9958225765866725)\n",
            "1       (0.28255064142403863, 0.7174493585759614)\n",
            "2        (0.7992364217293724, 0.2007635782706276)\n",
            "3     (0.9970778593080465, 0.0029221406919534244)\n",
            "4        (0.5567479946379642, 0.4432520053620359)\n",
            "                         ...                     \n",
            "95     (0.016028412649477117, 0.9839715873505229)\n",
            "96       (0.0850321404214792, 0.9149678595785208)\n",
            "97      (0.20423890981812085, 0.7957610901818791)\n",
            "98     (0.9903716183056595, 0.009628381694340545)\n",
            "99      (0.015446054947018999, 0.984553945052981)\n",
            "Length: 100, dtype: object\n"
          ]
        }
      ]
    },
    {
      "cell_type": "markdown",
      "source": [],
      "metadata": {
        "id": "ukEwq8rPOsIB"
      }
    },
    {
      "cell_type": "markdown",
      "source": [
        "# Part 3"
      ],
      "metadata": {
        "id": "tt2-ZOMuWipJ"
      }
    },
    {
      "cell_type": "markdown",
      "source": [
        "## Question 1 Answer:"
      ],
      "metadata": {
        "id": "mS9yhJ-M849d"
      }
    },
    {
      "cell_type": "markdown",
      "source": [
        "$$E[g(x)] = \\int_{-\\infty}^\\infty g(x) f(x; \\mu, \\Sigma) \\, dx$$\n"
      ],
      "metadata": {
        "id": "2_JVGKGYOMCJ"
      }
    },
    {
      "cell_type": "markdown",
      "source": [
        "$$g(x) = 0.1x_1^2 + 12.5x_2^2 - 7.5x_3^2\n",
        "$$"
      ],
      "metadata": {
        "id": "AKfzb3hZPUqA"
      }
    },
    {
      "cell_type": "markdown",
      "source": [
        "$f(x;μ,Σ)$ is the probability density function of the multivariate normal distribution."
      ],
      "metadata": {
        "id": "BGY4vbBxP5P9"
      }
    },
    {
      "cell_type": "markdown",
      "source": [
        "## Question 2 Answer:"
      ],
      "metadata": {
        "id": "uwNBvu3gPp0y"
      }
    },
    {
      "cell_type": "code",
      "source": [
        "import numpy as np"
      ],
      "metadata": {
        "id": "JgTuMwqmPURB"
      },
      "execution_count": null,
      "outputs": []
    },
    {
      "cell_type": "code",
      "source": [
        "# set seed 42\n"
      ],
      "metadata": {
        "id": "p7j6OSYGSxNT"
      },
      "execution_count": null,
      "outputs": []
    },
    {
      "cell_type": "code",
      "source": [
        "# Parameters of the multivariate normal distribution\n",
        "mu = np.array([20, 0.3, 0.8])  # Mean vector\n",
        "cov = np.array([[4, 0.5, 0.2],  # Covariance matrix\n",
        "                [0.5, 0.7, 0.1],\n",
        "                [0.2, 0.1, 0.2]])"
      ],
      "metadata": {
        "id": "9uKvJoRGO1LL"
      },
      "execution_count": null,
      "outputs": []
    },
    {
      "cell_type": "code",
      "source": [
        "# Define the function g(x)\n",
        "def g(x):\n",
        "    return 0.1 * x[0]**2 + 12.5 * x[1]**2 - 7.5 * x[2]**2"
      ],
      "metadata": {
        "id": "YNwd_ASdQSYz"
      },
      "execution_count": null,
      "outputs": []
    },
    {
      "cell_type": "code",
      "source": [
        "# Monte Carlo sampling function\n",
        "def monte_carlo_estimation(n_samples):\n",
        "    samples = np.random.multivariate_normal(mu, cov, n_samples)\n",
        "    y = np.apply_along_axis(g, 1, samples)\n",
        "    mean_g = np.mean(y)\n",
        "    std_err = np.std(y, ddof=1) / np.sqrt(n_samples)\n",
        "    confidence_interval = (mean_g - 1.96 * std_err, mean_g + 1.96 * std_err)\n",
        "    return mean_g, confidence_interval"
      ],
      "metadata": {
        "id": "aaQ6StlrQbJv"
      },
      "execution_count": null,
      "outputs": []
    },
    {
      "cell_type": "code",
      "source": [
        "# Run Monte Carlo for different sample sizes\n",
        "sample_sizes = [50, 100, 1000, 10000]\n",
        "results = {}\n",
        "\n",
        "for n in sample_sizes:\n",
        "    mean, ci = monte_carlo_estimation(n)\n",
        "    results[n] = (mean, ci)\n",
        "    print(f\"Sample Size: {n}, Mean: {mean:.3f}, 95% CI: ({ci[0]:.3f}, {ci[1]:.3f})\")"
      ],
      "metadata": {
        "colab": {
          "base_uri": "https://localhost:8080/"
        },
        "id": "lEYDnCaeQ95M",
        "outputId": "8e571244-d297-4e16-c92f-02e28783c136"
      },
      "execution_count": null,
      "outputs": [
        {
          "output_type": "stream",
          "name": "stdout",
          "text": [
            "Sample Size: 50, Mean: 46.521, 95% CI: (41.157, 51.886)\n",
            "Sample Size: 100, Mean: 44.510, 95% CI: (40.748, 48.272)\n",
            "Sample Size: 1000, Mean: 43.852, 95% CI: (42.852, 44.853)\n",
            "Sample Size: 10000, Mean: 44.095, 95% CI: (43.766, 44.424)\n"
          ]
        }
      ]
    },
    {
      "cell_type": "markdown",
      "source": [
        "## Question 3 Answer:"
      ],
      "metadata": {
        "id": "VP78yqCYTguL"
      }
    },
    {
      "cell_type": "code",
      "source": [
        "import numpy as np"
      ],
      "metadata": {
        "id": "pCVU3RzAVB3x"
      },
      "execution_count": null,
      "outputs": []
    },
    {
      "cell_type": "code",
      "source": [
        "n0, n1 = 10000, 50\n",
        "\n",
        "# Assuming variance is pooled\n",
        "samples_g0 = np.random.multivariate_normal(mu, cov, n0)\n",
        "samples_g1 = np.random.multivariate_normal(mu, cov, n1)\n",
        "\n",
        "var_g0 = np.var(np.apply_along_axis(g, 1, samples_g0), ddof=1)\n",
        "var_g1 = np.var(np.apply_along_axis(g, 1, samples_g1), ddof=1)\n",
        "\n",
        "mean_g0 = np.mean(np.apply_along_axis(g, 1, samples_g0))\n",
        "mean_g1 = np.mean(np.apply_along_axis(g, 1, samples_g1))\n",
        "\n",
        "pooled_std = np.sqrt(var_g0 / n0 + var_g1 / n1)\n",
        "t_statistic = (mean_g0 - mean_g1) / pooled_std\n",
        "\n",
        "# Degrees of freedom for the two-sample t-test\n",
        "df = min(n0 - 1, n1 - 1)\n",
        "t_critical = 1.96 # significance level --> 0.05\n",
        "\n",
        "# Decision\n",
        "if abs(t_statistic) > t_critical:\n",
        "    decision = \"Reject H0: g0 != g1\"\n",
        "else:\n",
        "    decision = \"Fail to Reject H0: g0 = g1\"\n",
        "\n",
        "print(f\"T-statistic: {t_statistic:.3f}, T-critical: {t_critical:.3f}\")\n",
        "print(f\"Decision: {decision}\")\n"
      ],
      "metadata": {
        "colab": {
          "base_uri": "https://localhost:8080/"
        },
        "id": "DFUwf4G-TjAN",
        "outputId": "afa28e0f-2d6e-4419-bde2-1ab4cb35175a"
      },
      "execution_count": null,
      "outputs": [
        {
          "output_type": "stream",
          "name": "stdout",
          "text": [
            "T-statistic: 0.108, T-critical: 1.960\n",
            "Decision: Fail to Reject H0: g0 = g1\n"
          ]
        }
      ]
    },
    {
      "cell_type": "code",
      "source": [
        "!jupyter nbconvert --to html /content/CMPE343.ipynb"
      ],
      "metadata": {
        "colab": {
          "base_uri": "https://localhost:8080/"
        },
        "id": "kt5Q5MIr3SZb",
        "outputId": "d841b299-95e0-4f2d-a5ea-6fc35ddcb05a"
      },
      "execution_count": null,
      "outputs": [
        {
          "output_type": "stream",
          "name": "stdout",
          "text": [
            "[NbConvertApp] WARNING | pattern '/content/CMPE343.ipynb' matched no files\n",
            "This application is used to convert notebook files (*.ipynb)\n",
            "        to various other formats.\n",
            "\n",
            "        WARNING: THE COMMANDLINE INTERFACE MAY CHANGE IN FUTURE RELEASES.\n",
            "\n",
            "Options\n",
            "=======\n",
            "The options below are convenience aliases to configurable class-options,\n",
            "as listed in the \"Equivalent to\" description-line of the aliases.\n",
            "To see all configurable class-options for some <cmd>, use:\n",
            "    <cmd> --help-all\n",
            "\n",
            "--debug\n",
            "    set log level to logging.DEBUG (maximize logging output)\n",
            "    Equivalent to: [--Application.log_level=10]\n",
            "--show-config\n",
            "    Show the application's configuration (human-readable format)\n",
            "    Equivalent to: [--Application.show_config=True]\n",
            "--show-config-json\n",
            "    Show the application's configuration (json format)\n",
            "    Equivalent to: [--Application.show_config_json=True]\n",
            "--generate-config\n",
            "    generate default config file\n",
            "    Equivalent to: [--JupyterApp.generate_config=True]\n",
            "-y\n",
            "    Answer yes to any questions instead of prompting.\n",
            "    Equivalent to: [--JupyterApp.answer_yes=True]\n",
            "--execute\n",
            "    Execute the notebook prior to export.\n",
            "    Equivalent to: [--ExecutePreprocessor.enabled=True]\n",
            "--allow-errors\n",
            "    Continue notebook execution even if one of the cells throws an error and include the error message in the cell output (the default behaviour is to abort conversion). This flag is only relevant if '--execute' was specified, too.\n",
            "    Equivalent to: [--ExecutePreprocessor.allow_errors=True]\n",
            "--stdin\n",
            "    read a single notebook file from stdin. Write the resulting notebook with default basename 'notebook.*'\n",
            "    Equivalent to: [--NbConvertApp.from_stdin=True]\n",
            "--stdout\n",
            "    Write notebook output to stdout instead of files.\n",
            "    Equivalent to: [--NbConvertApp.writer_class=StdoutWriter]\n",
            "--inplace\n",
            "    Run nbconvert in place, overwriting the existing notebook (only\n",
            "            relevant when converting to notebook format)\n",
            "    Equivalent to: [--NbConvertApp.use_output_suffix=False --NbConvertApp.export_format=notebook --FilesWriter.build_directory=]\n",
            "--clear-output\n",
            "    Clear output of current file and save in place,\n",
            "            overwriting the existing notebook.\n",
            "    Equivalent to: [--NbConvertApp.use_output_suffix=False --NbConvertApp.export_format=notebook --FilesWriter.build_directory= --ClearOutputPreprocessor.enabled=True]\n",
            "--coalesce-streams\n",
            "    Coalesce consecutive stdout and stderr outputs into one stream (within each cell).\n",
            "    Equivalent to: [--NbConvertApp.use_output_suffix=False --NbConvertApp.export_format=notebook --FilesWriter.build_directory= --CoalesceStreamsPreprocessor.enabled=True]\n",
            "--no-prompt\n",
            "    Exclude input and output prompts from converted document.\n",
            "    Equivalent to: [--TemplateExporter.exclude_input_prompt=True --TemplateExporter.exclude_output_prompt=True]\n",
            "--no-input\n",
            "    Exclude input cells and output prompts from converted document.\n",
            "            This mode is ideal for generating code-free reports.\n",
            "    Equivalent to: [--TemplateExporter.exclude_output_prompt=True --TemplateExporter.exclude_input=True --TemplateExporter.exclude_input_prompt=True]\n",
            "--allow-chromium-download\n",
            "    Whether to allow downloading chromium if no suitable version is found on the system.\n",
            "    Equivalent to: [--WebPDFExporter.allow_chromium_download=True]\n",
            "--disable-chromium-sandbox\n",
            "    Disable chromium security sandbox when converting to PDF..\n",
            "    Equivalent to: [--WebPDFExporter.disable_sandbox=True]\n",
            "--show-input\n",
            "    Shows code input. This flag is only useful for dejavu users.\n",
            "    Equivalent to: [--TemplateExporter.exclude_input=False]\n",
            "--embed-images\n",
            "    Embed the images as base64 dataurls in the output. This flag is only useful for the HTML/WebPDF/Slides exports.\n",
            "    Equivalent to: [--HTMLExporter.embed_images=True]\n",
            "--sanitize-html\n",
            "    Whether the HTML in Markdown cells and cell outputs should be sanitized..\n",
            "    Equivalent to: [--HTMLExporter.sanitize_html=True]\n",
            "--log-level=<Enum>\n",
            "    Set the log level by value or name.\n",
            "    Choices: any of [0, 10, 20, 30, 40, 50, 'DEBUG', 'INFO', 'WARN', 'ERROR', 'CRITICAL']\n",
            "    Default: 30\n",
            "    Equivalent to: [--Application.log_level]\n",
            "--config=<Unicode>\n",
            "    Full path of a config file.\n",
            "    Default: ''\n",
            "    Equivalent to: [--JupyterApp.config_file]\n",
            "--to=<Unicode>\n",
            "    The export format to be used, either one of the built-in formats\n",
            "            ['asciidoc', 'custom', 'html', 'latex', 'markdown', 'notebook', 'pdf', 'python', 'qtpdf', 'qtpng', 'rst', 'script', 'slides', 'webpdf']\n",
            "            or a dotted object name that represents the import path for an\n",
            "            ``Exporter`` class\n",
            "    Default: ''\n",
            "    Equivalent to: [--NbConvertApp.export_format]\n",
            "--template=<Unicode>\n",
            "    Name of the template to use\n",
            "    Default: ''\n",
            "    Equivalent to: [--TemplateExporter.template_name]\n",
            "--template-file=<Unicode>\n",
            "    Name of the template file to use\n",
            "    Default: None\n",
            "    Equivalent to: [--TemplateExporter.template_file]\n",
            "--theme=<Unicode>\n",
            "    Template specific theme(e.g. the name of a JupyterLab CSS theme distributed\n",
            "    as prebuilt extension for the lab template)\n",
            "    Default: 'light'\n",
            "    Equivalent to: [--HTMLExporter.theme]\n",
            "--sanitize_html=<Bool>\n",
            "    Whether the HTML in Markdown cells and cell outputs should be sanitized.This\n",
            "    should be set to True by nbviewer or similar tools.\n",
            "    Default: False\n",
            "    Equivalent to: [--HTMLExporter.sanitize_html]\n",
            "--writer=<DottedObjectName>\n",
            "    Writer class used to write the\n",
            "                                        results of the conversion\n",
            "    Default: 'FilesWriter'\n",
            "    Equivalent to: [--NbConvertApp.writer_class]\n",
            "--post=<DottedOrNone>\n",
            "    PostProcessor class used to write the\n",
            "                                        results of the conversion\n",
            "    Default: ''\n",
            "    Equivalent to: [--NbConvertApp.postprocessor_class]\n",
            "--output=<Unicode>\n",
            "    Overwrite base name use for output files.\n",
            "                Supports pattern replacements '{notebook_name}'.\n",
            "    Default: '{notebook_name}'\n",
            "    Equivalent to: [--NbConvertApp.output_base]\n",
            "--output-dir=<Unicode>\n",
            "    Directory to write output(s) to. Defaults\n",
            "                                  to output to the directory of each notebook. To recover\n",
            "                                  previous default behaviour (outputting to the current\n",
            "                                  working directory) use . as the flag value.\n",
            "    Default: ''\n",
            "    Equivalent to: [--FilesWriter.build_directory]\n",
            "--reveal-prefix=<Unicode>\n",
            "    The URL prefix for reveal.js (version 3.x).\n",
            "            This defaults to the reveal CDN, but can be any url pointing to a copy\n",
            "            of reveal.js.\n",
            "            For speaker notes to work, this must be a relative path to a local\n",
            "            copy of reveal.js: e.g., \"reveal.js\".\n",
            "            If a relative path is given, it must be a subdirectory of the\n",
            "            current directory (from which the server is run).\n",
            "            See the usage documentation\n",
            "            (https://nbconvert.readthedocs.io/en/latest/usage.html#reveal-js-html-slideshow)\n",
            "            for more details.\n",
            "    Default: ''\n",
            "    Equivalent to: [--SlidesExporter.reveal_url_prefix]\n",
            "--nbformat=<Enum>\n",
            "    The nbformat version to write.\n",
            "            Use this to downgrade notebooks.\n",
            "    Choices: any of [1, 2, 3, 4]\n",
            "    Default: 4\n",
            "    Equivalent to: [--NotebookExporter.nbformat_version]\n",
            "\n",
            "Examples\n",
            "--------\n",
            "\n",
            "    The simplest way to use nbconvert is\n",
            "\n",
            "            > jupyter nbconvert mynotebook.ipynb --to html\n",
            "\n",
            "            Options include ['asciidoc', 'custom', 'html', 'latex', 'markdown', 'notebook', 'pdf', 'python', 'qtpdf', 'qtpng', 'rst', 'script', 'slides', 'webpdf'].\n",
            "\n",
            "            > jupyter nbconvert --to latex mynotebook.ipynb\n",
            "\n",
            "            Both HTML and LaTeX support multiple output templates. LaTeX includes\n",
            "            'base', 'article' and 'report'.  HTML includes 'basic', 'lab' and\n",
            "            'classic'. You can specify the flavor of the format used.\n",
            "\n",
            "            > jupyter nbconvert --to html --template lab mynotebook.ipynb\n",
            "\n",
            "            You can also pipe the output to stdout, rather than a file\n",
            "\n",
            "            > jupyter nbconvert mynotebook.ipynb --stdout\n",
            "\n",
            "            PDF is generated via latex\n",
            "\n",
            "            > jupyter nbconvert mynotebook.ipynb --to pdf\n",
            "\n",
            "            You can get (and serve) a Reveal.js-powered slideshow\n",
            "\n",
            "            > jupyter nbconvert myslides.ipynb --to slides --post serve\n",
            "\n",
            "            Multiple notebooks can be given at the command line in a couple of\n",
            "            different ways:\n",
            "\n",
            "            > jupyter nbconvert notebook*.ipynb\n",
            "            > jupyter nbconvert notebook1.ipynb notebook2.ipynb\n",
            "\n",
            "            or you can specify the notebooks list in a config file, containing::\n",
            "\n",
            "                c.NbConvertApp.notebooks = [\"my_notebook.ipynb\"]\n",
            "\n",
            "            > jupyter nbconvert --config mycfg.py\n",
            "\n",
            "To see all available configurables, use `--help-all`.\n",
            "\n"
          ]
        }
      ]
    }
  ]
}